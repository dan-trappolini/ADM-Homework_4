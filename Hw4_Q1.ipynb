{
 "cells": [
  {
   "cell_type": "markdown",
   "metadata": {},
   "source": [
    "# 1. Hashing task!"
   ]
  },
  {
   "cell_type": "markdown",
   "metadata": {},
   "source": [
    "# Bloom Filter"
   ]
  },
  {
   "cell_type": "markdown",
   "metadata": {},
   "source": [
    "In this script is, a variation of polinomial rolling hash function is used with bloom filter to efficiently search for week passwords."
   ]
  },
  {
   "cell_type": "markdown",
   "metadata": {},
   "source": [
    "The script has 2 main parts;\n",
    "\n",
    "1st part is formation of bloom filter with passwords1.txt data set\n",
    "\n",
    "2nd part is searching for passwords in passwords2.txt data set"
   ]
  },
  {
   "cell_type": "markdown",
   "metadata": {},
   "source": [
    "# Formation of bloom filter"
   ]
  },
  {
   "cell_type": "markdown",
   "metadata": {},
   "source": [
    "To form the bloom filter, we need to define parameter values such as size of the bloom filter (m) and the number of hash functions (k) to be used. To calculate these parameters, firtst a False Positive error rate *p* needed to be defined. For a better understanding please reffer to https://hackernoon.com/probabilistic-data-structures-bloom-filter-5374112a7832\n",
    "\n",
    "For this task, we define *p = 0.05*"
   ]
  },
  {
   "cell_type": "markdown",
   "metadata": {},
   "source": [
    "## Imports"
   ]
  },
  {
   "cell_type": "code",
   "execution_count": 1,
   "metadata": {},
   "outputs": [],
   "source": [
    "import numpy as np\n",
    "import time"
   ]
  },
  {
   "cell_type": "markdown",
   "metadata": {},
   "source": [
    "## Parameter Values"
   ]
  },
  {
   "cell_type": "code",
   "execution_count": 3,
   "metadata": {},
   "outputs": [],
   "source": [
    "n=0\n",
    "with open(\"passwords1.txt\", 'r') as f:\n",
    "    for line in f:\n",
    "        n += 1\n",
    "error = 0.05\n",
    "m = int(-(n*np.log(error))/(np.log(2)**2))\n",
    "k = int((m/n)*np.log(2))"
   ]
  },
  {
   "cell_type": "markdown",
   "metadata": {},
   "source": [
    "# Hash Function"
   ]
  },
  {
   "cell_type": "markdown",
   "metadata": {},
   "source": [
    "The hash function used is a variant of polynomial rolling hash function. the refference is https://cp-algorithms.com/string/string-hashing.html\n",
    "\n",
    "To create k different hash functions from polynomial rolling hash function. We create 4 different arrays with random numbers between 0 and 20. these numbers are the powers of the multiplyer for each character of the passwords. Here the multiplyer is 127 because the passwords can be formed by at most 127 different characters."
   ]
  },
  {
   "cell_type": "code",
   "execution_count": 4,
   "metadata": {},
   "outputs": [],
   "source": [
    "np.random.seed(0)\n",
    "seed_list = np.random.randint(127, size=k) #set seed\n",
    "\"\"\"########## Hash functions ##########\"\"\"\n",
    "def hash_func(numeric_pass, m, k, seed_list, p=127): # randomized polynomial rolling hash function.\n",
    "    hash_list = []\n",
    "    seed = 0\n",
    "    for _ in range(k):\n",
    "        np.random.seed(seed_list[seed])\n",
    "        degrees = np.random.randint(20, size=20)\n",
    "        count = 0\n",
    "        sums = 0\n",
    "        seed += 1\n",
    "        for num in numeric_pass:\n",
    "            val = int(num) * (p ** int(degrees[count]))\n",
    "            sums += val\n",
    "            count +=1\n",
    "        hash_list.append(int(sums % m))\n",
    "    return hash_list"
   ]
  },
  {
   "cell_type": "markdown",
   "metadata": {},
   "source": [
    "# Create the Bloom Filter"
   ]
  },
  {
   "cell_type": "markdown",
   "metadata": {},
   "source": [
    "This part is executed and bloom filter formed before. For the sake of run time, here we are not running this code chunk. \n",
    "\n",
    "### Run time for Bloom filter formation is 13517 seconds (3.45 hours)"
   ]
  },
  {
   "cell_type": "code",
   "execution_count": 5,
   "metadata": {},
   "outputs": [
    {
     "data": {
      "text/plain": [
       "'from numpy import save\\nbloom_filter = np.zeros(m, dtype=int)\\n# read data\\nwith open(\"passwords1.txt\",\"r\") as f:\\n    for line in f:\\n        password = (line[:-1])\\n        #find the alphabet position of each letter\\n        numeric_pass = list(map(ord, password))\\n        hash_list = hash_func(numeric_pass, m, k, seed_list, p=127)\\n        for num in hash_list:\\n            bloom_filter[num] = 1\\n\\nsave(\\'bloom_filter.npy\\', bloom_filter)'"
      ]
     },
     "execution_count": 5,
     "metadata": {},
     "output_type": "execute_result"
    }
   ],
   "source": [
    "\"\"\"from numpy import save\n",
    "bloom_filter = np.zeros(m, dtype=int)\n",
    "# read data\n",
    "with open(\"passwords1.txt\",\"r\") as f:\n",
    "    for line in f:\n",
    "        password = (line[:-1])\n",
    "        #find the alphabet position of each letter\n",
    "        numeric_pass = list(map(ord, password))\n",
    "        hash_list = hash_func(numeric_pass, m, k, seed_list, p=127)\n",
    "        for num in hash_list:\n",
    "            bloom_filter[num] = 1\n",
    "\n",
    "save('bloom_filter.npy', bloom_filter)\"\"\""
   ]
  },
  {
   "cell_type": "markdown",
   "metadata": {},
   "source": [
    "# Searching For weak Passwords"
   ]
  },
  {
   "cell_type": "code",
   "execution_count": 6,
   "metadata": {},
   "outputs": [],
   "source": [
    "bloom_filter = np.load(\"bloom_filter.npy\") # load the bloom filter"
   ]
  },
  {
   "cell_type": "code",
   "execution_count": 8,
   "metadata": {},
   "outputs": [],
   "source": [
    "\"\"\" search for paswords in paswords2.txt by using the bloom filter\"\"\"\n",
    "start = time.time()\n",
    "# read data\n",
    "maybe = 0\n",
    "with open(\"passwords2.txt\",\"r\") as f:\n",
    "    for line in f:\n",
    "        password = (line[:-1])\n",
    "        #find the alphabet position of each letter\n",
    "        numeric_pass = list(map(ord, password))\n",
    "        hash_list = hash_func(numeric_pass, m, k, seed_list, p=127)\n",
    "        fp = 0\n",
    "        for num in hash_list:\n",
    "            if bloom_filter[num] == 1:\n",
    "                fp += 1\n",
    "            else:\n",
    "                break\n",
    "        if fp == k:\n",
    "            maybe += 1\n",
    "finish = time.time()\n",
    "execution_time = (finish-start)"
   ]
  },
  {
   "cell_type": "code",
   "execution_count": 10,
   "metadata": {},
   "outputs": [
    {
     "data": {
      "text/plain": [
       "2806.2684020996094"
      ]
     },
     "execution_count": 10,
     "metadata": {},
     "output_type": "execute_result"
    }
   ],
   "source": [
    "execution_time"
   ]
  },
  {
   "cell_type": "code",
   "execution_count": 14,
   "metadata": {},
   "outputs": [
    {
     "name": "stdout",
     "output_type": "stream",
     "text": [
      "Number of hash function used:  4\n",
      "Number of duplicates detected:  15255783\n",
      "Probability of false positives:  0.05\n",
      "Execution time:  16323.26840209961\n"
     ]
    }
   ],
   "source": [
    "print('Number of hash function used: ', k)\n",
    "print('Number of duplicates detected: ', maybe)\n",
    "print('Probability of false positives: ', error)\n",
    "print('Execution time: ',str(execution_time +13517))"
   ]
  },
  {
   "cell_type": "markdown",
   "metadata": {},
   "source": [
    "## exact number of dublicates(Bonus)"
   ]
  },
  {
   "cell_type": "code",
   "execution_count": 1,
   "metadata": {},
   "outputs": [
    {
     "name": "stdout",
     "output_type": "stream",
     "text": [
      "exact number of Dublicates:  14000000\n"
     ]
    }
   ],
   "source": [
    "file1 = set(line.strip() for line in open('passwords1.txt'))\n",
    "file2 = set(line.strip() for line in open('passwords2.txt'))\n",
    "common = 0 \n",
    "for line in file1 & file2:\n",
    "    if line:\n",
    "        common +=1\n",
    "print(\"exact number of Dublicates: \",common)"
   ]
  },
  {
   "cell_type": "code",
   "execution_count": null,
   "metadata": {},
   "outputs": [],
   "source": []
  }
 ],
 "metadata": {
  "kernelspec": {
   "display_name": "Python 3",
   "language": "python",
   "name": "python3"
  },
  "language_info": {
   "codemirror_mode": {
    "name": "ipython",
    "version": 3
   },
   "file_extension": ".py",
   "mimetype": "text/x-python",
   "name": "python",
   "nbconvert_exporter": "python",
   "pygments_lexer": "ipython3",
   "version": "3.7.3"
  }
 },
 "nbformat": 4,
 "nbformat_minor": 2
}

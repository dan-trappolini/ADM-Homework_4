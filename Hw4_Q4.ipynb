{
 "cells": [
  {
   "cell_type": "markdown",
   "metadata": {},
   "source": [
    "# Exercise 4 "
   ]
  },
  {
   "cell_type": "markdown",
   "metadata": {},
   "source": [
    "## Importing Libraries"
   ]
  },
  {
   "cell_type": "code",
   "execution_count": 75,
   "metadata": {},
   "outputs": [],
   "source": [
    "import pandas as pd\n",
    "import numpy as np\n",
    "from sklearn.preprocessing import StandardScaler\n",
    "from sklearn.datasets import make_blobs\n",
    "import matplotlib.pyplot as plt\n",
    "from itertools import permutations\n",
    "from scipy.spatial import distance"
   ]
  },
  {
   "cell_type": "markdown",
   "metadata": {},
   "source": [
    "## Cleaning DataFrame"
   ]
  },
  {
   "cell_type": "code",
   "execution_count": 76,
   "metadata": {},
   "outputs": [],
   "source": [
    "wines = ['Class', 'Alcohol', 'Malic acid', 'Ash', 'Alcalinity of ash', 'Magnesium', 'Total phenols',\n",
    "              'Flavanoids', 'Nonflavanoid phenols', 'Proanthocyanins', 'Color intensity', 'Hue', 'OD280/OD315',\\\n",
    "              'Proline']\n",
    "\n",
    "# I create the columns name based on the file wine.names"
   ]
  },
  {
   "cell_type": "code",
   "execution_count": 77,
   "metadata": {},
   "outputs": [],
   "source": [
    "f=pd.read_csv('C:\\\\Users\\\\Daniele\\\\Desktop\\\\HW 4\\\\wine.data',names=wines)"
   ]
  },
  {
   "cell_type": "markdown",
   "metadata": {},
   "source": [
    "## Dropping the NaN values"
   ]
  },
  {
   "cell_type": "code",
   "execution_count": 78,
   "metadata": {},
   "outputs": [],
   "source": [
    "pd.DataFrame.drop(f,['Class'],axis=1,inplace=True)\n",
    "\n",
    "# I remove the columns class, and I drop the empty space (NaN) replace with 0. "
   ]
  },
  {
   "cell_type": "code",
   "execution_count": 79,
   "metadata": {
    "scrolled": true
   },
   "outputs": [
    {
     "data": {
      "text/html": [
       "<div>\n",
       "<style scoped>\n",
       "    .dataframe tbody tr th:only-of-type {\n",
       "        vertical-align: middle;\n",
       "    }\n",
       "\n",
       "    .dataframe tbody tr th {\n",
       "        vertical-align: top;\n",
       "    }\n",
       "\n",
       "    .dataframe thead th {\n",
       "        text-align: right;\n",
       "    }\n",
       "</style>\n",
       "<table border=\"1\" class=\"dataframe\">\n",
       "  <thead>\n",
       "    <tr style=\"text-align: right;\">\n",
       "      <th></th>\n",
       "      <th>Alcohol</th>\n",
       "      <th>Malic acid</th>\n",
       "      <th>Ash</th>\n",
       "      <th>Alcalinity of ash</th>\n",
       "      <th>Magnesium</th>\n",
       "      <th>Total phenols</th>\n",
       "      <th>Flavanoids</th>\n",
       "      <th>Nonflavanoid phenols</th>\n",
       "      <th>Proanthocyanins</th>\n",
       "      <th>Color intensity</th>\n",
       "      <th>Hue</th>\n",
       "      <th>OD280/OD315</th>\n",
       "      <th>Proline</th>\n",
       "    </tr>\n",
       "  </thead>\n",
       "  <tbody>\n",
       "    <tr>\n",
       "      <th>0</th>\n",
       "      <td>14.23</td>\n",
       "      <td>1.71</td>\n",
       "      <td>2.43</td>\n",
       "      <td>15.6</td>\n",
       "      <td>127</td>\n",
       "      <td>2.80</td>\n",
       "      <td>3.06</td>\n",
       "      <td>0.28</td>\n",
       "      <td>2.29</td>\n",
       "      <td>5.64</td>\n",
       "      <td>1.04</td>\n",
       "      <td>3.92</td>\n",
       "      <td>1065</td>\n",
       "    </tr>\n",
       "    <tr>\n",
       "      <th>1</th>\n",
       "      <td>13.20</td>\n",
       "      <td>1.78</td>\n",
       "      <td>2.14</td>\n",
       "      <td>11.2</td>\n",
       "      <td>100</td>\n",
       "      <td>2.65</td>\n",
       "      <td>2.76</td>\n",
       "      <td>0.26</td>\n",
       "      <td>1.28</td>\n",
       "      <td>4.38</td>\n",
       "      <td>1.05</td>\n",
       "      <td>3.40</td>\n",
       "      <td>1050</td>\n",
       "    </tr>\n",
       "    <tr>\n",
       "      <th>2</th>\n",
       "      <td>13.16</td>\n",
       "      <td>2.36</td>\n",
       "      <td>2.67</td>\n",
       "      <td>18.6</td>\n",
       "      <td>101</td>\n",
       "      <td>2.80</td>\n",
       "      <td>3.24</td>\n",
       "      <td>0.30</td>\n",
       "      <td>2.81</td>\n",
       "      <td>5.68</td>\n",
       "      <td>1.03</td>\n",
       "      <td>3.17</td>\n",
       "      <td>1185</td>\n",
       "    </tr>\n",
       "    <tr>\n",
       "      <th>3</th>\n",
       "      <td>14.37</td>\n",
       "      <td>1.95</td>\n",
       "      <td>2.50</td>\n",
       "      <td>16.8</td>\n",
       "      <td>113</td>\n",
       "      <td>3.85</td>\n",
       "      <td>3.49</td>\n",
       "      <td>0.24</td>\n",
       "      <td>2.18</td>\n",
       "      <td>7.80</td>\n",
       "      <td>0.86</td>\n",
       "      <td>3.45</td>\n",
       "      <td>1480</td>\n",
       "    </tr>\n",
       "    <tr>\n",
       "      <th>4</th>\n",
       "      <td>13.24</td>\n",
       "      <td>2.59</td>\n",
       "      <td>2.87</td>\n",
       "      <td>21.0</td>\n",
       "      <td>118</td>\n",
       "      <td>2.80</td>\n",
       "      <td>2.69</td>\n",
       "      <td>0.39</td>\n",
       "      <td>1.82</td>\n",
       "      <td>4.32</td>\n",
       "      <td>1.04</td>\n",
       "      <td>2.93</td>\n",
       "      <td>735</td>\n",
       "    </tr>\n",
       "  </tbody>\n",
       "</table>\n",
       "</div>"
      ],
      "text/plain": [
       "   Alcohol  Malic acid   Ash  Alcalinity of ash  Magnesium  Total phenols  \\\n",
       "0    14.23        1.71  2.43               15.6        127           2.80   \n",
       "1    13.20        1.78  2.14               11.2        100           2.65   \n",
       "2    13.16        2.36  2.67               18.6        101           2.80   \n",
       "3    14.37        1.95  2.50               16.8        113           3.85   \n",
       "4    13.24        2.59  2.87               21.0        118           2.80   \n",
       "\n",
       "   Flavanoids  Nonflavanoid phenols  Proanthocyanins  Color intensity   Hue  \\\n",
       "0        3.06                  0.28             2.29             5.64  1.04   \n",
       "1        2.76                  0.26             1.28             4.38  1.05   \n",
       "2        3.24                  0.30             2.81             5.68  1.03   \n",
       "3        3.49                  0.24             2.18             7.80  0.86   \n",
       "4        2.69                  0.39             1.82             4.32  1.04   \n",
       "\n",
       "   OD280/OD315  Proline  \n",
       "0         3.92     1065  \n",
       "1         3.40     1050  \n",
       "2         3.17     1185  \n",
       "3         3.45     1480  \n",
       "4         2.93      735  "
      ]
     },
     "execution_count": 79,
     "metadata": {},
     "output_type": "execute_result"
    }
   ],
   "source": [
    "f.head()"
   ]
  },
  {
   "cell_type": "markdown",
   "metadata": {},
   "source": [
    "## Standardize to avoid a big influence from variable like Proline and Magnesium"
   ]
  },
  {
   "cell_type": "code",
   "execution_count": 80,
   "metadata": {},
   "outputs": [],
   "source": [
    "scaler = StandardScaler()\n",
    "\n",
    "# I standardize to avoid the influence of big variable."
   ]
  },
  {
   "cell_type": "code",
   "execution_count": 81,
   "metadata": {},
   "outputs": [],
   "source": [
    "scaled_array = scaler.fit_transform(f)\n",
    "\n",
    "# I apply the standardization for all the columns of f(dataframe) with the function fit"
   ]
  },
  {
   "cell_type": "code",
   "execution_count": 82,
   "metadata": {},
   "outputs": [],
   "source": [
    "scaled_data= pd.DataFrame( scaled_array, columns = f.columns )"
   ]
  },
  {
   "cell_type": "code",
   "execution_count": 83,
   "metadata": {},
   "outputs": [
    {
     "data": {
      "text/html": [
       "<div>\n",
       "<style scoped>\n",
       "    .dataframe tbody tr th:only-of-type {\n",
       "        vertical-align: middle;\n",
       "    }\n",
       "\n",
       "    .dataframe tbody tr th {\n",
       "        vertical-align: top;\n",
       "    }\n",
       "\n",
       "    .dataframe thead th {\n",
       "        text-align: right;\n",
       "    }\n",
       "</style>\n",
       "<table border=\"1\" class=\"dataframe\">\n",
       "  <thead>\n",
       "    <tr style=\"text-align: right;\">\n",
       "      <th></th>\n",
       "      <th>Alcohol</th>\n",
       "      <th>Malic acid</th>\n",
       "      <th>Ash</th>\n",
       "      <th>Alcalinity of ash</th>\n",
       "      <th>Magnesium</th>\n",
       "      <th>Total phenols</th>\n",
       "      <th>Flavanoids</th>\n",
       "      <th>Nonflavanoid phenols</th>\n",
       "      <th>Proanthocyanins</th>\n",
       "      <th>Color intensity</th>\n",
       "      <th>Hue</th>\n",
       "      <th>OD280/OD315</th>\n",
       "      <th>Proline</th>\n",
       "    </tr>\n",
       "  </thead>\n",
       "  <tbody>\n",
       "    <tr>\n",
       "      <th>0</th>\n",
       "      <td>1.518613</td>\n",
       "      <td>-0.562250</td>\n",
       "      <td>0.232053</td>\n",
       "      <td>-1.169593</td>\n",
       "      <td>1.913905</td>\n",
       "      <td>0.808997</td>\n",
       "      <td>1.034819</td>\n",
       "      <td>-0.659563</td>\n",
       "      <td>1.224884</td>\n",
       "      <td>0.251717</td>\n",
       "      <td>0.362177</td>\n",
       "      <td>1.847920</td>\n",
       "      <td>1.013009</td>\n",
       "    </tr>\n",
       "    <tr>\n",
       "      <th>1</th>\n",
       "      <td>0.246290</td>\n",
       "      <td>-0.499413</td>\n",
       "      <td>-0.827996</td>\n",
       "      <td>-2.490847</td>\n",
       "      <td>0.018145</td>\n",
       "      <td>0.568648</td>\n",
       "      <td>0.733629</td>\n",
       "      <td>-0.820719</td>\n",
       "      <td>-0.544721</td>\n",
       "      <td>-0.293321</td>\n",
       "      <td>0.406051</td>\n",
       "      <td>1.113449</td>\n",
       "      <td>0.965242</td>\n",
       "    </tr>\n",
       "    <tr>\n",
       "      <th>2</th>\n",
       "      <td>0.196879</td>\n",
       "      <td>0.021231</td>\n",
       "      <td>1.109334</td>\n",
       "      <td>-0.268738</td>\n",
       "      <td>0.088358</td>\n",
       "      <td>0.808997</td>\n",
       "      <td>1.215533</td>\n",
       "      <td>-0.498407</td>\n",
       "      <td>2.135968</td>\n",
       "      <td>0.269020</td>\n",
       "      <td>0.318304</td>\n",
       "      <td>0.788587</td>\n",
       "      <td>1.395148</td>\n",
       "    </tr>\n",
       "    <tr>\n",
       "      <th>3</th>\n",
       "      <td>1.691550</td>\n",
       "      <td>-0.346811</td>\n",
       "      <td>0.487926</td>\n",
       "      <td>-0.809251</td>\n",
       "      <td>0.930918</td>\n",
       "      <td>2.491446</td>\n",
       "      <td>1.466525</td>\n",
       "      <td>-0.981875</td>\n",
       "      <td>1.032155</td>\n",
       "      <td>1.186068</td>\n",
       "      <td>-0.427544</td>\n",
       "      <td>1.184071</td>\n",
       "      <td>2.334574</td>\n",
       "    </tr>\n",
       "    <tr>\n",
       "      <th>4</th>\n",
       "      <td>0.295700</td>\n",
       "      <td>0.227694</td>\n",
       "      <td>1.840403</td>\n",
       "      <td>0.451946</td>\n",
       "      <td>1.281985</td>\n",
       "      <td>0.808997</td>\n",
       "      <td>0.663351</td>\n",
       "      <td>0.226796</td>\n",
       "      <td>0.401404</td>\n",
       "      <td>-0.319276</td>\n",
       "      <td>0.362177</td>\n",
       "      <td>0.449601</td>\n",
       "      <td>-0.037874</td>\n",
       "    </tr>\n",
       "  </tbody>\n",
       "</table>\n",
       "</div>"
      ],
      "text/plain": [
       "    Alcohol  Malic acid       Ash  Alcalinity of ash  Magnesium  \\\n",
       "0  1.518613   -0.562250  0.232053          -1.169593   1.913905   \n",
       "1  0.246290   -0.499413 -0.827996          -2.490847   0.018145   \n",
       "2  0.196879    0.021231  1.109334          -0.268738   0.088358   \n",
       "3  1.691550   -0.346811  0.487926          -0.809251   0.930918   \n",
       "4  0.295700    0.227694  1.840403           0.451946   1.281985   \n",
       "\n",
       "   Total phenols  Flavanoids  Nonflavanoid phenols  Proanthocyanins  \\\n",
       "0       0.808997    1.034819             -0.659563         1.224884   \n",
       "1       0.568648    0.733629             -0.820719        -0.544721   \n",
       "2       0.808997    1.215533             -0.498407         2.135968   \n",
       "3       2.491446    1.466525             -0.981875         1.032155   \n",
       "4       0.808997    0.663351              0.226796         0.401404   \n",
       "\n",
       "   Color intensity       Hue  OD280/OD315   Proline  \n",
       "0         0.251717  0.362177     1.847920  1.013009  \n",
       "1        -0.293321  0.406051     1.113449  0.965242  \n",
       "2         0.269020  0.318304     0.788587  1.395148  \n",
       "3         1.186068 -0.427544     1.184071  2.334574  \n",
       "4        -0.319276  0.362177     0.449601 -0.037874  "
      ]
     },
     "execution_count": 83,
     "metadata": {},
     "output_type": "execute_result"
    }
   ],
   "source": [
    "scaled_data.head()"
   ]
  },
  {
   "cell_type": "markdown",
   "metadata": {},
   "source": [
    "## Defining the Kmeans"
   ]
  },
  {
   "cell_type": "code",
   "execution_count": 84,
   "metadata": {},
   "outputs": [],
   "source": [
    "def Kmeans(array,k):\n",
    "    \n",
    "    def initialize_centroids(array,k):\n",
    "        initial_centroids = np.random.permutation(array.shape[0])[:k]\n",
    "        centroids = array[initial_centroids]\n",
    "        return centroids\n",
    "    \n",
    "    # I define the initialize centroids that consists of making a random list of centroids.\n",
    "    \n",
    "    lis_initial_centroids = initialize_centroids(array,k)\n",
    "    \n",
    "    def assign_centroids(array,centroids):\n",
    "        lis_clustering=[]\n",
    "        for e in array:\n",
    "            d_e = []\n",
    "            for i in range(k):\n",
    "                d = distance.euclidean(e,centroids[i])\n",
    "                d_e.append(d)\n",
    "            min_distance=min(d_e)\n",
    "            lis_clustering.append((d_e.index(min_distance)+1))\n",
    "        lis_clustering= np.array(lis_clustering)\n",
    "        clusters_to_append = lis_clustering.reshape(178,1)   \n",
    "        new_array = np.append(array,clusters_to_append,axis=1)\n",
    "        return new_array\n",
    "    \n",
    "    # I assign for each data the nearest centroid. Create the clusters. \n",
    "        \n",
    "    new_array = assign_centroids(scaled_array,lis_initial_centroids)\n",
    "    \n",
    "    def new_centroids(new_array):\n",
    "        lis_centroids = []\n",
    "        centroids = []\n",
    "        for i in range(k):\n",
    "            lis_centroids.append([])\n",
    "        for j in range(178):\n",
    "            for i in range(k):\n",
    "                if float(i+1) == new_array[j][13]:\n",
    "                    lis_centroids[i].append(new_array[j])\n",
    "        for i in range(k):\n",
    "            lis_centroid = lis_centroids[i]\n",
    "            lis_centroid = np.delete(lis_centroid,13,axis=1)\n",
    "            new_centroid = np.mean(lis_centroid,axis=0)\n",
    "            centroids.append(new_centroid)\n",
    "        return centroids\n",
    "   \n",
    "    # I calculate the mean for each clusters. Make the new centroids.\n",
    "    \n",
    "    centroids = new_centroids(new_array)\n",
    "    \n",
    "    final_array = assign_centroids(scaled_array,centroids)\n",
    "    \n",
    "    def update_centroids(initial_centroids):\n",
    "        centroids_old = np.zeros((k,12))\n",
    "        centroids = initial_centroids\n",
    "        numItem = 0\n",
    "        while ([list(elem) for elem in centroids_old] != [list(elem) for elem in centroids]):\n",
    "            numItem += 1\n",
    "            centroids_old = centroids.copy()\n",
    "            new_array = assign_centroids(scaled_array,centroids_old)\n",
    "            centroids = new_centroids(new_array)\n",
    "        return numItem,centroids,centroids_old\n",
    "    \n",
    "    # Update_centroids,needs to repeat the reassignment of new_centroids until the old_centroids = new_centorids.\n",
    "    \n",
    "    numItem = update_centroids(lis_initial_centroids)[0]\n",
    "    \n",
    "    # numItem is the nums of iterations that happens until old_centroids = new_centorids\n",
    "    \n",
    "    centroids = update_centroids(lis_initial_centroids)[1]\n",
    "    \n",
    "    final_array = assign_centroids(scaled_array,centroids)\n",
    "    \n",
    "    def clustering(array):\n",
    "        lis_clusters = []\n",
    "        clusters = []\n",
    "        for i in range(k):\n",
    "            lis_clusters.append([])\n",
    "        for j in range(178):\n",
    "            for i in range(k):\n",
    "                if float(i+1) == array[j][13]:\n",
    "                    lis_clusters[i].append(array[j])\n",
    "        for i in range(k):\n",
    "            cluster = lis_clusters[i]\n",
    "            cluster = np.delete(cluster,13,axis=1)\n",
    "            clusters.append(cluster)\n",
    "        return clusters\n",
    "    \n",
    "    # Reassign data to the new_centroids.\n",
    "    \n",
    "    clusters = clustering(final_array)\n",
    "    \n",
    "    def dissimilarity(clusters,centroids):\n",
    "        Dist = []\n",
    "        for c in range (len(clusters)):\n",
    "            Dist_cluster = ([])\n",
    "            for e in clusters[c]:\n",
    "                Dist_cluster += [(distance.euclidean(e,centroids[c]))**2]\n",
    "            Dist += [Dist_cluster]\n",
    "        final_dist = []\n",
    "        for e in Dist:\n",
    "            e = (sum(e))\n",
    "            final_dist += [e]\n",
    "        totDist = (sum(final_dist))\n",
    "        return totDist\n",
    "    \n",
    "    # Calculate dissimilarity, the total distance from each data and its own centroids. \n",
    "        \n",
    "    totDist = dissimilarity(clusters,centroids)\n",
    "    \n",
    "    return totDist,clusters,centroids,lis_initial_centroids"
   ]
  },
  {
   "cell_type": "code",
   "execution_count": 85,
   "metadata": {},
   "outputs": [],
   "source": [
    "results = Kmeans(scaled_array,3)"
   ]
  },
  {
   "cell_type": "markdown",
   "metadata": {},
   "source": [
    "## Defining the Best Kmeans "
   ]
  },
  {
   "cell_type": "code",
   "execution_count": 86,
   "metadata": {},
   "outputs": [],
   "source": [
    "def bestKmeans(rep):\n",
    "    best = Kmeans(scaled_array,3)\n",
    "    minDissimilarity = best[0]\n",
    "    for trial in range(rep):\n",
    "        result = Kmeans(scaled_array,3)\n",
    "        currDissimilarity = result[0]\n",
    "        if currDissimilarity < minDissimilarity:\n",
    "            best = result\n",
    "            minDissimilarity = currDissimilarity       \n",
    "    return best[0],best[2],best[3]\n",
    "    \n",
    "# best Kmeans consists on the repetition of K-means and the results is the best Kmeans otherwise the Kmeans with smaller dissimilarity.    "
   ]
  },
  {
   "cell_type": "markdown",
   "metadata": {},
   "source": [
    "## Defining the Worst Kmeans"
   ]
  },
  {
   "cell_type": "code",
   "execution_count": 87,
   "metadata": {},
   "outputs": [],
   "source": [
    "def worstKmeans(rep):\n",
    "    worst = Kmeans(scaled_array,3)\n",
    "    minDissimilarity = worst[0]\n",
    "    for trial in range(rep):\n",
    "        result = Kmeans(scaled_array,3)\n",
    "        currDissimilarity = result[0]\n",
    "        if currDissimilarity > minDissimilarity:\n",
    "            worst = result\n",
    "            minDissimilarity = currDissimilarity       \n",
    "    return worst[0],worst[2],worst[3]\n",
    "\n",
    "# worst Kmeans consists on the repetition of K-means and the results is the worst Kmeans otherwise the Kmeans with bigger dissimilarity."
   ]
  },
  {
   "cell_type": "markdown",
   "metadata": {},
   "source": [
    "## Results"
   ]
  },
  {
   "cell_type": "code",
   "execution_count": 88,
   "metadata": {
    "scrolled": false
   },
   "outputs": [],
   "source": [
    "best = bestKmeans(50)"
   ]
  },
  {
   "cell_type": "code",
   "execution_count": 89,
   "metadata": {},
   "outputs": [],
   "source": [
    "worst = worstKmeans(50)"
   ]
  },
  {
   "cell_type": "code",
   "execution_count": 90,
   "metadata": {},
   "outputs": [
    {
     "data": {
      "text/plain": [
       "(1277.9284888446423,\n",
       " [array([ 0.83523208, -0.30380968,  0.36470604, -0.61019129,  0.5775868 ,\n",
       "          0.88523736,  0.97781956, -0.56208965,  0.58028658,  0.17106348,\n",
       "          0.47398365,  0.77924711,  1.12518529]),\n",
       "  array([-0.92607185, -0.39404154, -0.49451676,  0.17060184, -0.49171185,\n",
       "         -0.07598265,  0.02081257, -0.03353357,  0.0582655 , -0.90191402,\n",
       "          0.46180361,  0.27076419, -0.75384618]),\n",
       "  array([ 0.16490746,  0.87154706,  0.18689833,  0.52436746, -0.07547277,\n",
       "         -0.97933029, -1.21524764,  0.72606354, -0.77970639,  0.94153874,\n",
       "         -1.16478865, -1.29241163, -0.40708796])],\n",
       " array([[ 1.02450655, -0.61610959,  0.8534605 , -0.68913719, -0.40313502,\n",
       "          0.24818135,  0.96454129, -1.14303148,  1.22488398,  0.23441405,\n",
       "          1.23964502,  1.07107602,  1.64990767],\n",
       "        [ 1.1109751 , -0.58917969, -0.90110314, -1.04947918,  0.08835836,\n",
       "          1.28969686,  1.36612798, -1.22360954,  0.96207136,  0.45069904,\n",
       "         -0.20817676,  1.01457831,  0.75824943],\n",
       "        [ 0.60451647, -0.60713296, -0.46246223,  1.35280076, -0.89462841,\n",
       "         -0.66514763, -0.19002044, -0.74014117, -0.98274202, -0.57016612,\n",
       "          0.09893695,  0.23773476, -0.87539586]]))"
      ]
     },
     "execution_count": 90,
     "metadata": {},
     "output_type": "execute_result"
    }
   ],
   "source": [
    "best"
   ]
  },
  {
   "cell_type": "code",
   "execution_count": 91,
   "metadata": {},
   "outputs": [
    {
     "data": {
      "text/plain": [
       "(1617.3744851527877,\n",
       " [array([ 0.04197899, -0.38224053, -0.10922044, -0.29717226,  0.08897972,\n",
       "          0.5428402 ,  0.60204711, -0.48200615,  0.41194796, -0.31261472,\n",
       "          0.50738654,  0.61509448,  0.26067933]),\n",
       "  array([-0.11095684,  0.70445264,  0.16068636,  0.49246043, -0.14568611,\n",
       "         -0.99426144, -1.05359118,  0.8228174 , -0.78917844,  0.46024304,\n",
       "         -0.85611008, -1.07000793, -0.4567613 ]),\n",
       "  array([ 1.12332775, -0.59366801,  1.10933436,  1.27772951, -0.43824169,\n",
       "          0.64876424, -0.82753931,  1.31459937,  1.58406123,  3.16507569,\n",
       "         -1.69987192, -1.0475882 , -0.34040091])],\n",
       " array([[ 0.59216382, -0.47248348,  0.15894572,  0.30180329,  0.01814502,\n",
       "          0.64876424,  0.95450162, -0.82071924,  0.47148781,  0.01812906,\n",
       "          0.36217728,  1.2123203 ,  0.55125733],\n",
       "        [ 0.49334262,  1.41260912,  0.41481959,  1.05251577,  0.1585717 ,\n",
       "         -0.79333415, -1.28434417,  0.5491078 , -0.31695005,  0.96978302,\n",
       "         -1.12951789, -1.48544548,  0.0098934 ],\n",
       "        [ 1.65449169, -0.58917969,  1.21899459,  1.65308575, -0.12228166,\n",
       "          0.80899739, -0.72212281,  1.3548884 ,  1.94323848,  3.43543192,\n",
       "         -1.69987192, -0.92046835, -0.27671104]]))"
      ]
     },
     "execution_count": 91,
     "metadata": {},
     "output_type": "execute_result"
    }
   ],
   "source": [
    "worst"
   ]
  },
  {
   "cell_type": "markdown",
   "metadata": {},
   "source": [
    "### Comparing the results the cost is higher where the initials centroids were bad chosen. "
   ]
  }
 ],
 "metadata": {
  "kernelspec": {
   "display_name": "Python 3",
   "language": "python",
   "name": "python3"
  },
  "language_info": {
   "codemirror_mode": {
    "name": "ipython",
    "version": 3
   },
   "file_extension": ".py",
   "mimetype": "text/x-python",
   "name": "python",
   "nbconvert_exporter": "python",
   "pygments_lexer": "ipython3",
   "version": "3.7.3"
  }
 },
 "nbformat": 4,
 "nbformat_minor": 2
}
